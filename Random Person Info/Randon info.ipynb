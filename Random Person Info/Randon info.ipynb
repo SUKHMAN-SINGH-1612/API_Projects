{
 "cells": [
  {
   "attachments": {},
   "cell_type": "markdown",
   "metadata": {},
   "source": [
    "# Random Person Info"
   ]
  },
  {
   "attachments": {},
   "cell_type": "markdown",
   "metadata": {},
   "source": [
    "In this program we will generate random person info like name, age, address, phone number, email, etc. The program uses API from [randomuser.me](https://randomuser.me/) to generate the random person info. The program also gives the image of the person.\n"
   ]
  },
  {
   "attachments": {},
   "cell_type": "markdown",
   "metadata": {},
   "source": [
    "The libraries used in this program are:\n",
    "- requests\n",
    "- pandas\n",
    "- Image\n",
    "- urllib.request"
   ]
  },
  {
   "cell_type": "code",
   "execution_count": 115,
   "metadata": {},
   "outputs": [],
   "source": [
    "#Importing the libraries\n",
    "import requests          #for requesting the data from the api\n",
    "import pandas as pd      #for storing the data in the form of dataframe\n",
    "from PIL import Image    #for displaying the image\n",
    "import urllib.request as ur   #for downloading the image\n",
    "import ssl"
   ]
  },
  {
   "attachments": {},
   "cell_type": "markdown",
   "metadata": {},
   "source": [
    "The API used in this program provides the information in the form of json. The json data is converted into pandas dataframe and then the required information is extracted from the dataframe."
   ]
  },
  {
   "attachments": {},
   "cell_type": "markdown",
   "metadata": {},
   "source": [
    "### Extracting information from API"
   ]
  },
  {
   "cell_type": "code",
   "execution_count": 116,
   "metadata": {},
   "outputs": [],
   "source": [
    "response =  requests.get(\"https://randomuser.me/api/\")\n",
    "data = response.json()"
   ]
  },
  {
   "attachments": {},
   "cell_type": "markdown",
   "metadata": {},
   "source": [
    "Printing the information from the API"
   ]
  },
  {
   "cell_type": "code",
   "execution_count": 117,
   "metadata": {},
   "outputs": [
    {
     "name": "stdout",
     "output_type": "stream",
     "text": [
      "{'results': [{'gender': 'male', 'name': {'title': 'Mr', 'first': 'Milos', 'last': 'Mehler'}, 'location': {'street': {'number': 2304, 'name': 'Uhlandstraße'}, 'city': 'Triberg im Schwarzwald', 'state': 'Berlin', 'country': 'Germany', 'postcode': 68576, 'coordinates': {'latitude': '-50.4503', 'longitude': '-116.5664'}, 'timezone': {'offset': '+8:00', 'description': 'Beijing, Perth, Singapore, Hong Kong'}}, 'email': 'milos.mehler@example.com', 'login': {'uuid': 'b9d3fe2a-e84a-4658-af8c-3c7f735ca133', 'username': 'orangepeacock294', 'password': 'wildcats', 'salt': '4IqPywHP', 'md5': '5b2e8a9b460e9914742f00b19092ffb1', 'sha1': 'e7a5a30621a04459c3e0019cda5d88237183ac4d', 'sha256': '57b1fce21ce234cb3bc73f8044d56aaa82f15b666bee075f45033f67fdc5b51e'}, 'dob': {'date': '1988-08-01T03:17:24.270Z', 'age': 34}, 'registered': {'date': '2011-10-24T14:37:07.531Z', 'age': 11}, 'phone': '0423-7612267', 'cell': '0177-1277236', 'id': {'name': 'SVNR', 'value': '89 310788 M 027'}, 'picture': {'large': 'https://randomuser.me/api/portraits/men/99.jpg', 'medium': 'https://randomuser.me/api/portraits/med/men/99.jpg', 'thumbnail': 'https://randomuser.me/api/portraits/thumb/men/99.jpg'}, 'nat': 'DE'}], 'info': {'seed': 'c916a4ba75c29a1d', 'results': 1, 'page': 1, 'version': '1.4'}}\n"
     ]
    }
   ],
   "source": [
    "print(data)"
   ]
  },
  {
   "attachments": {},
   "cell_type": "markdown",
   "metadata": {},
   "source": [
    "Converting the json data ['results'] into pandas dataframe"
   ]
  },
  {
   "cell_type": "code",
   "execution_count": 118,
   "metadata": {},
   "outputs": [
    {
     "name": "stdout",
     "output_type": "stream",
     "text": [
      "  gender                                               name   \n",
      "0   male  {'title': 'Mr', 'first': 'Milos', 'last': 'Meh...  \\\n",
      "\n",
      "                                            location   \n",
      "0  {'street': {'number': 2304, 'name': 'Uhlandstr...  \\\n",
      "\n",
      "                      email   \n",
      "0  milos.mehler@example.com  \\\n",
      "\n",
      "                                               login   \n",
      "0  {'uuid': 'b9d3fe2a-e84a-4658-af8c-3c7f735ca133...  \\\n",
      "\n",
      "                                               dob   \n",
      "0  {'date': '1988-08-01T03:17:24.270Z', 'age': 34}  \\\n",
      "\n",
      "                                        registered         phone   \n",
      "0  {'date': '2011-10-24T14:37:07.531Z', 'age': 11}  0423-7612267  \\\n",
      "\n",
      "           cell                                            id   \n",
      "0  0177-1277236  {'name': 'SVNR', 'value': '89 310788 M 027'}  \\\n",
      "\n",
      "                                             picture nat  \n",
      "0  {'large': 'https://randomuser.me/api/portraits...  DE  \n"
     ]
    }
   ],
   "source": [
    "df = pd.DataFrame(data['results'])\n",
    "print(df)"
   ]
  },
  {
   "attachments": {},
   "cell_type": "markdown",
   "metadata": {},
   "source": [
    "Now creating variables to store information such as name, dob, address, phone number, email, etc."
   ]
  },
  {
   "cell_type": "code",
   "execution_count": 119,
   "metadata": {},
   "outputs": [],
   "source": [
    "name = df['name']    #name variable stores the name of the person\n",
    "name = name.iloc[0]['title'] + \". \" + name.iloc[0]['first'] + \" \" + name.iloc[0]['last']\n",
    "\n",
    "dob = df[\"dob\"] \n",
    "age = dob.iloc[0]['age']               #age variable stores the age of the person\n",
    "\n",
    "address = df['location']    #address variable stores the address of the person\n",
    "address = str(address.iloc[0]['street']['number']) + \", \" + str(address.iloc[0]['street']['name']) + \", \" + str(address.iloc[0]['city']) + \", \" + str(address.iloc[0]['state']) + \", \" + str(address.iloc[0]['country']) + \", \" + str(address.iloc[0]['postcode'])\n",
    "\n",
    "phone = df.iloc[0]['phone']    #phone variable stores the phone number of the person\n",
    "cell = df.iloc[0]['cell']    #cell variable stores the cell number of the person\n",
    "\n",
    "email = df.iloc[0]['email']    #email variable stores the email address of the person\n"
   ]
  },
  {
   "attachments": {},
   "cell_type": "markdown",
   "metadata": {},
   "source": [
    "Now showing the image of the person using the image library"
   ]
  },
  {
   "cell_type": "code",
   "execution_count": 120,
   "metadata": {},
   "outputs": [],
   "source": [
    "imageurl = df['picture'].iloc[0]['large']    #image variable stores the url of the image of the person\n",
    "image = imageurl.split('/')\n",
    "image = image[-1]\n",
    "ssl._create_default_https_context = ssl._create_unverified_context #for ssl certificate error\n",
    "ur.urlretrieve(imageurl,image)    #downloading the image from the url\n",
    "img = Image.open(image)    #opening the image"
   ]
  },
  {
   "attachments": {},
   "cell_type": "markdown",
   "metadata": {},
   "source": [
    "Now giving the output of the information. The output is in the form of a table."
   ]
  },
  {
   "cell_type": "code",
   "execution_count": 121,
   "metadata": {},
   "outputs": [
    {
     "name": "stdout",
     "output_type": "stream",
     "text": [
      "Name:  Mr. Milos Mehler\n",
      "Age:  34\n",
      "Address:  2304, Uhlandstraße, Triberg im Schwarzwald, Berlin, Germany, 68576\n",
      "Phone:  0423-7612267\n",
      "Cell phone:  0177-1277236\n",
      "Email:  milos.mehler@example.com\n"
     ]
    }
   ],
   "source": [
    "#displaying the information\n",
    "print(\"Name: \",name)\n",
    "print(\"Age: \",age)\n",
    "print(\"Address: \",address)\n",
    "print(\"Phone: \",phone)\n",
    "print(\"Cell phone: \",cell)\n",
    "print(\"Email: \",email)\n",
    "img.show()    #displaying the image"
   ]
  },
  {
   "attachments": {},
   "cell_type": "markdown",
   "metadata": {},
   "source": [
    "## Author\n",
    "### Sukhman Singh"
   ]
  },
  {
   "attachments": {},
   "cell_type": "markdown",
   "metadata": {},
   "source": [
    "### Last Modified\n",
    "### May 29,2023"
   ]
  }
 ],
 "metadata": {
  "kernelspec": {
   "display_name": "Python 3",
   "language": "python",
   "name": "python3"
  },
  "language_info": {
   "codemirror_mode": {
    "name": "ipython",
    "version": 3
   },
   "file_extension": ".py",
   "mimetype": "text/x-python",
   "name": "python",
   "nbconvert_exporter": "python",
   "pygments_lexer": "ipython3",
   "version": "3.11.3"
  },
  "orig_nbformat": 4
 },
 "nbformat": 4,
 "nbformat_minor": 2
}
